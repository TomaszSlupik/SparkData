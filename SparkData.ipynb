{
 "cells": [
  {
   "cell_type": "code",
   "execution_count": null,
   "metadata": {},
   "outputs": [],
   "source": [
    "#%% Załadowanie pliku \n",
    "load = spark.read.format(\"com.crealytics.spark.excel\")\\\n",
    ".option(\"header\", \"true\")\\\n",
    ".load(\"/FileTomek/Tomek/Tomektest.xlsm\")"
   ]
  },
  {
   "cell_type": "code",
   "execution_count": null,
   "metadata": {},
   "outputs": [],
   "source": [
    "\n",
    "#%% Odczyt pliku \n",
    "display (load)\n"
   ]
  },
  {
   "cell_type": "code",
   "execution_count": null,
   "metadata": {},
   "outputs": [],
   "source": [
    "#%% Struktura danych \n",
    "print (load.schema)\n"
   ]
  },
  {
   "cell_type": "code",
   "execution_count": null,
   "metadata": {},
   "outputs": [],
   "source": [
    "#%% Zliczenie rekordów:\n",
    "load.count ()\n"
   ]
  },
  {
   "cell_type": "code",
   "execution_count": null,
   "metadata": {},
   "outputs": [],
   "source": [
    "#%% Wybór konkretnych kolumn:\n",
    "load.select (\"Nazwa_produktu\", \"Kategoria_produktu\", \"Dostawca\", \"Klient\").show()\n"
   ]
  },
  {
   "cell_type": "code",
   "execution_count": null,
   "metadata": {},
   "outputs": [],
   "source": [
    "#%% Posortowanie malejąco\n",
    "load.sort (\"Liczba_produktów\", ascending=False).show()\n"
   ]
  },
  {
   "cell_type": "code",
   "execution_count": null,
   "metadata": {},
   "outputs": [],
   "source": [
    "#%% Sortowanie + konkretne kolumny\n",
    "load.select (load[\"Nazwa_Produktu\"], load[\"Kat_Produktu\"], load [\"Liczba_Sprzedazy\"] * 100).sort (\"Liczba_Sprzedazy \", ascending=False).show()\n"
   ]
  },
  {
   "cell_type": "code",
   "execution_count": null,
   "metadata": {},
   "outputs": [],
   "source": [
    "#%% Filtrowanie\n",
    "load.where (load [\"Liczba_Produktow_Kupionych\"] >500).show()\n"
   ]
  },
  {
   "cell_type": "code",
   "execution_count": null,
   "metadata": {},
   "outputs": [],
   "source": [
    "#%% Filtrowanie2\n",
    "load.where (load [\"Liczba_Produktów\"] >500).select(\"Dostawca\", \"Liczba_Produktów\", \"Data_Zakupu\").show()\n"
   ]
  },
  {
   "cell_type": "code",
   "execution_count": null,
   "metadata": {},
   "outputs": [],
   "source": [
    "#%% Like\n",
    "load.where (load [\"Kat_Produktu\"].like(\"%Sł%\")).select(\"Kat_Produktu \", \"Dostawca\", \"Nazwa_Produktu\", \"Data_Sprzedaży\").show()\n"
   ]
  },
  {
   "cell_type": "code",
   "execution_count": null,
   "metadata": {},
   "outputs": [],
   "source": [
    "#%% Nowa kolumna\n",
    "from pyspark.sql import functions as F\n",
    "df_new = load.where (load [\"Kat_Produktu\"].like(\"%Sł%\")).select(\"Kat_Produktu \", \"Dostawca\", \"Nazwa_Produktu\", \"Data_Sprzedaży\"). withColumn (\"TestTomek\", F.lit(100)).show()\n"
   ]
  },
  {
   "cell_type": "code",
   "execution_count": null,
   "metadata": {},
   "outputs": [],
   "source": [
    "#%% Nowa kolumna\n",
    "from pyspark.sql import functions as F\n",
    "load_new = load.select (load[\"Nazwa_Produktu\"], load[\"Kategoria\"], load [\"Liczba_Produktow\"], load [\"Dostawca\"]).sort (\"Liczba_Produktow\", ascending=False).withColumn (\"Liczba Produktów powiększona dwukrotnie\", load [\"Liczba_Produktow\"]*2)\n",
    "load_new.show()\n"
   ]
  },
  {
   "cell_type": "code",
   "execution_count": null,
   "metadata": {},
   "outputs": [],
   "source": [
    "#%% \n",
    "display (load_new)\n"
   ]
  },
  {
   "cell_type": "code",
   "execution_count": null,
   "metadata": {},
   "outputs": [],
   "source": [
    "#%% pogrupowanie\n",
    "load.groupby(\"Nazwa_Produktu\").count().show()\n"
   ]
  },
  {
   "cell_type": "code",
   "execution_count": null,
   "metadata": {},
   "outputs": [],
   "source": [
    "#%% Stworzenie widoku\n",
    "newTable = spark.sql (\"select * from hurtownia_danych_testowa\")\n",
    "new_view = newTable.createOrReplaceTempView ('TestowyWidok'\n"
   ]
  },
  {
   "cell_type": "code",
   "execution_count": null,
   "metadata": {},
   "outputs": [],
   "source": [
    "#%% Wyświetlenie\n",
    "TestowyWidok = spark.sql(\"select * from TestowyWidok\")\n"
   ]
  },
  {
   "cell_type": "code",
   "execution_count": null,
   "metadata": {},
   "outputs": [],
   "source": [
    "#%% SQL\n",
    "%sql \n",
    "select * from TestowyWidok\n"
   ]
  },
  {
   "cell_type": "code",
   "execution_count": null,
   "metadata": {},
   "outputs": [],
   "source": [
    "#%% Stworzenie tabel – tab1\n",
    "df1 = [(\"Kawa\", 9.99), (\"Herbata\", 4.99), (\"Sok pomarańczowy\", 5.00)]\n",
    "tableOne = spark.createDataFrame \n"
   ]
  },
  {
   "cell_type": "code",
   "execution_count": null,
   "metadata": {},
   "outputs": [],
   "source": [
    "#%% Stworzenie tabel – tab2\n",
    "\n",
    "df2 = [(\"Snickers\", 2.99), (\"ColeZero\", 3.99), (\"Mars\", 1.99)]\n",
    "tableTwo = spark.createDataFrame (df2, ['Produkty', 'Cena'])\n",
    "tableTwo.show()\n"
   ]
  },
  {
   "cell_type": "code",
   "execution_count": null,
   "metadata": {},
   "outputs": [],
   "source": [
    "#%% Aliasy\n",
    "t1 = tableOne.alias ('t1')\n",
    "t2 = tableTwo.alias ('t2')\n"
   ]
  },
  {
   "cell_type": "code",
   "execution_count": null,
   "metadata": {},
   "outputs": [],
   "source": [
    "#%%INNER JOIN\n",
    "df1 = [(\"Kawa\", 1), (\"Herbata\", 2), (\"Sok pomarańczowy\", 3)]\n",
    "tableOne = spark.createDataFrame (df1, ['Produkty', 'id'])\n",
    "tableOne.show()\n",
    "\n",
    "df2 = [(\"Snickers\", 4), (\"Mars\", 1), (\"Twix\", 3)]\n",
    "tableTwo = spark.createDataFrame (df2, ['Batony', 'id'])\n",
    "tableTwo.show() \n",
    "                                     \n",
    "t1 = tableOne.alias ('t1')\n",
    "t2 = tableTwo.alias ('t2')\n",
    "\n",
    "inner_join = t1.join (t2, t1.id == t2.id)\n",
    "inner_join.show()\n"
   ]
  },
  {
   "cell_type": "code",
   "execution_count": null,
   "metadata": {},
   "outputs": [],
   "source": [
    "#%WIELE FILTRÓW:\n",
    "load = spark.read.format(\"com.crealytics.spark.excel\")\\\n",
    ".option(\"header\", \"true\")\\\n",
    ".load(\"/TomaszKatalog/Produkty/Produkty_wyniki.xlsm\")\n",
    "\n",
    "load.filter (load['Kategoria_Produktow'] == 'Słodycze').filter (load['Cena'] > '600').display()\n",
    "\n"
   ]
  }
 ],
 "metadata": {
  "language_info": {
   "name": "python"
  },
  "orig_nbformat": 4
 },
 "nbformat": 4,
 "nbformat_minor": 2
}
